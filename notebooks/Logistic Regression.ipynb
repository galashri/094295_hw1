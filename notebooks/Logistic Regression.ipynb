{
 "cells": [
  {
   "cell_type": "code",
   "execution_count": 4,
   "id": "cd391170-8362-407c-936b-d81fce2ab6a7",
   "metadata": {},
   "outputs": [],
   "source": [
    "import pandas as pd\n",
    "import re\n",
    "import argparse\n",
    "import os\n",
    "import pandas as pd\n",
    "import numpy as np\n",
    "import matplotlib.pyplot as plt\n",
    "import missingno as msno\n",
    "from sklearn.feature_selection import SequentialFeatureSelector\n",
    "from sklearn.feature_selection import RFECV\n",
    "from sklearn.linear_model import LogisticRegression\n",
    "\n",
    "pd.set_option(\"display.max_columns\", None)\n",
    "input_folder = '../data/train'\n",
    "# Reading input folder\n",
    "files = os.listdir(input_folder)\n",
    "\n",
    "#df_std = df_std.append(tmp.std(), ignore_index=True)\n",
    "\n",
    "file_name = 'df.pkl'\n",
    "\n",
    "input_folder = '../data/train'\n",
    "# Reading input folder\n",
    "filesnames = os.listdir(input_folder)\n",
    "regex = re.compile(r'\\d+')\n",
    "ids = [int(x) for x in regex.findall(str(files))]\n",
    "dfs = list()\n",
    "\n",
    "for patient_id, filename in enumerate(filesnames):    \n",
    "    pdf = pd.read_csv(input_folder + \"/\" + filename, sep='|')   \n",
    "    sepsislabel_true_list = pdf[pdf['SepsisLabel'] == 1].index\n",
    "    if not sepsislabel_true_list.empty:\n",
    "        pdf = pdf[:min(pdf[pdf['SepsisLabel'] == 1].index)+1]\n",
    "        pdf['SepsisLabel'] = 1\n",
    "    pdf['patient_id'] = ids[patient_id]\n",
    "    pdf.interpolate(limit_direction='both', axis=0, inplace=True) # show first hist without it\n",
    "    dfs.append(pdf)\n",
    "df = pd.concat(dfs, axis=0, ignore_index=True)"
   ]
  },
  {
   "cell_type": "code",
   "execution_count": 3,
   "id": "3d81bed2-5352-4fe1-a673-e94f230ffe05",
   "metadata": {},
   "outputs": [],
   "source": [
    "file_name = '../df.pkl'\n",
    "\n",
    "# Save dataframe to pickled pandas object\n",
    "#df.to_pickle(file_name) # where to save it usually as a .plk\n",
    "\n",
    "# Load dataframe from pickled pandas object\n",
    "df = pd.read_pickle(file_name)\n"
   ]
  },
  {
   "cell_type": "code",
   "execution_count": 5,
   "id": "c61105e2-14b4-4eca-ba29-b4a17cacb813",
   "metadata": {},
   "outputs": [],
   "source": [
    "\n",
    "# vital signal features\n",
    "vitals = ['HR','O2Sat','Temp','SBP','MAP','DBP','Resp','EtCO2']\n",
    "\n",
    "# lab test features\n",
    "labs = ['BaseExcess','HCO3','FiO2','pH','PaCO2','SaO2','AST','BUN','Alkalinephos','Calcium','Chloride','Creatinine','Bilirubin_direct','Glucose','Lactate',\n",
    "      'Magnesium','Phosphate','Potassium','Bilirubin_total','TroponinI','Hct','Hgb','PTT','WBC','Fibrinogen','Platelets']\n",
    "\n",
    "# demographic features\n",
    "demogs = ['Age','Gender','Unit1','Unit2','HospAdmTime','ICULOS']\n",
    "\n",
    "# labels\n",
    "labels = ['SepsisLabel']\n",
    "\n",
    "all = vitals+labs+demogs+labels\n"
   ]
  },
  {
   "cell_type": "code",
   "execution_count": 6,
   "id": "e9ad8adf-29ee-4d07-9643-4754634679dc",
   "metadata": {},
   "outputs": [],
   "source": [
    "agg = ['HR', 'O2Sat', 'Temp', 'SBP', 'MAP', 'DBP', 'Resp', 'EtCO2','BaseExcess', 'HCO3', 'FiO2', 'pH', 'PaCO2', 'SaO2', 'AST', 'BUN','Alkalinephos', 'Calcium', 'Chloride', 'Creatinine', 'Bilirubin_direct','Glucose', 'Lactate', 'Magnesium', 'Phosphate', 'Potassium','Bilirubin_total', 'TroponinI', 'Hct', 'Hgb', 'PTT', 'WBC','Fibrinogen', 'Platelets','Age']\n",
    "\n",
    "aggdict = {}\n",
    "for col in df.columns:\n",
    "    if col in agg:\n",
    "        aggdict[col]=['mean','std', 'min', 'max','skew',pd.DataFrame.kurt]\n",
    "    else:\n",
    "        aggdict[col]=['max']"
   ]
  },
  {
   "cell_type": "code",
   "execution_count": 7,
   "id": "74473349-8e53-491a-a71b-d17bca0b2ed4",
   "metadata": {},
   "outputs": [],
   "source": [
    "grouped_multiple = df.groupby('patient_id').agg(aggdict)\n",
    "\n",
    "#grouped_multiple = df.groupby('patient_id')[columns].agg(['mean','std', 'min', 'max'])\n",
    "\n",
    "grouped_multiple.columns = list(map('_'.join, grouped_multiple.columns.values))"
   ]
  },
  {
   "cell_type": "markdown",
   "id": "603b9619-815d-423d-a7b9-ca3ff96b26cd",
   "metadata": {},
   "source": [
    "Feature selection????"
   ]
  },
  {
   "cell_type": "code",
   "execution_count": 20,
   "id": "9d8d5264-d46f-48f6-9542-ab783ed34b1c",
   "metadata": {},
   "outputs": [],
   "source": [
    "\n",
    "train = grouped_multiple.drop(['SepsisLabel_max','patient_id_max'], axis=1)\n",
    "train=train.fillna(train.mean())\n",
    "y = grouped_multiple['SepsisLabel_max']"
   ]
  },
  {
   "cell_type": "code",
   "execution_count": null,
   "id": "1a95d2bb-09bb-49d7-8124-1f8605f9b01d",
   "metadata": {},
   "outputs": [],
   "source": [
    "sfs = SequentialFeatureSelector(LogisticRegression(), scoring='f1', n_jobs=-1)\n",
    "sfs = sfs.fit(train, y)\n",
    "chosen = train.columns[sfs.support_]\n",
    "X_t = pd.DataFrame(sfs.transform(train), columns=chosen, index=train.index)"
   ]
  },
  {
   "cell_type": "markdown",
   "id": "af13a4c0-f458-4d2a-936c-37888e279da8",
   "metadata": {},
   "source": [
    "# Prediction"
   ]
  },
  {
   "cell_type": "markdown",
   "id": "d35587c7-9cbe-417b-8166-9adbdea4dd46",
   "metadata": {},
   "source": [
    "Experiments"
   ]
  },
  {
   "cell_type": "code",
   "execution_count": 8,
   "id": "d2611ea9-d209-4eb1-b926-4536fc92185d",
   "metadata": {},
   "outputs": [],
   "source": [
    "import pandas as pd\n",
    "import numpy as np\n",
    "from sklearn.model_selection import train_test_split\n",
    "from sklearn.impute import MissingIndicator\n",
    "from feature_engine import imputation"
   ]
  },
  {
   "cell_type": "code",
   "execution_count": 9,
   "id": "9d8edae7-ffb9-4ecf-8208-23319b45a59b",
   "metadata": {},
   "outputs": [],
   "source": [
    "X_train, X_test, y_train, y_test = train_test_split(\n",
    "grouped_multiple.drop(['SepsisLabel_max','patient_id_max'], axis=1), grouped_multiple['SepsisLabel_max'], test_size=0.2,\n",
    "random_state=0)"
   ]
  },
  {
   "cell_type": "code",
   "execution_count": 10,
   "id": "9db64041-b35f-4cbe-bb75-912cb951798f",
   "metadata": {},
   "outputs": [],
   "source": [
    "from sklearn.preprocessing import StandardScaler, OneHotEncoder\n",
    "from sklearn.impute import SimpleImputer\n",
    "from sklearn.compose import make_column_transformer, ColumnTransformer\n",
    "from sklearn.pipeline import make_pipeline\n",
    "from sklearn.linear_model import LogisticRegression\n",
    "from sklearn.svm import LinearSVC, SVC\n",
    "from sklearn.ensemble import RandomForestClassifier, GradientBoostingClassifier\n",
    "from sklearn.tree import DecisionTreeClassifier\n",
    "from sklearn.model_selection import cross_validate, StratifiedKFold\n",
    "from sklearn.mixture import GaussianMixture\n",
    "from sklearn.neural_network import MLPClassifier\n",
    "import pandas as pd\n",
    "import numpy as np\n",
    "import seaborn as sns\n",
    "import matplotlib.pyplot as plt\n",
    "from pylab import rcParams\n",
    "from sklearn.impute import KNNImputer\n"
   ]
  },
  {
   "cell_type": "code",
   "execution_count": 11,
   "id": "59b235be-e85e-4a2a-a087-2e638f3a3a2d",
   "metadata": {},
   "outputs": [],
   "source": [
    "Imputer = SimpleImputer(strategy=\"mean\", add_indicator=True)\n",
    "impute_scale_pipeline = make_pipeline(Imputer, StandardScaler())\n",
    "\n",
    "\n",
    "# impute_scale_pipeline = make_pipeline(KNNImputer(n_neighbors=2, weights='uniform', metric='nan_euclidean'), \n",
    "#                                     StandardScaler())\n"
   ]
  },
  {
   "cell_type": "code",
   "execution_count": 12,
   "id": "29482dfc-7447-4a90-860a-9ef9de4e6954",
   "metadata": {},
   "outputs": [],
   "source": [
    "logistic_pipe = make_pipeline(impute_scale_pipeline, \n",
    "                                    LogisticRegression(solver='lbfgs') )"
   ]
  },
  {
   "cell_type": "code",
   "execution_count": 13,
   "id": "4e67d25e-a78e-4ae5-9ec8-6529e29ff1df",
   "metadata": {},
   "outputs": [
    {
     "name": "stderr",
     "output_type": "stream",
     "text": [
      "C:\\Users\\Gal\\AppData\\Local\\Packages\\PythonSoftwareFoundation.Python.3.9_qbz5n2kfra8p0\\LocalCache\\local-packages\\Python39\\site-packages\\sklearn\\linear_model\\_logistic.py:814: ConvergenceWarning: lbfgs failed to converge (status=1):\n",
      "STOP: TOTAL NO. of ITERATIONS REACHED LIMIT.\n",
      "\n",
      "Increase the number of iterations (max_iter) or scale the data as shown in:\n",
      "    https://scikit-learn.org/stable/modules/preprocessing.html\n",
      "Please also refer to the documentation for alternative solver options:\n",
      "    https://scikit-learn.org/stable/modules/linear_model.html#logistic-regression\n",
      "  n_iter_i = _check_optimize_result(\n",
      "C:\\Users\\Gal\\AppData\\Local\\Packages\\PythonSoftwareFoundation.Python.3.9_qbz5n2kfra8p0\\LocalCache\\local-packages\\Python39\\site-packages\\sklearn\\linear_model\\_logistic.py:814: ConvergenceWarning: lbfgs failed to converge (status=1):\n",
      "STOP: TOTAL NO. of ITERATIONS REACHED LIMIT.\n",
      "\n",
      "Increase the number of iterations (max_iter) or scale the data as shown in:\n",
      "    https://scikit-learn.org/stable/modules/preprocessing.html\n",
      "Please also refer to the documentation for alternative solver options:\n",
      "    https://scikit-learn.org/stable/modules/linear_model.html#logistic-regression\n",
      "  n_iter_i = _check_optimize_result(\n",
      "C:\\Users\\Gal\\AppData\\Local\\Packages\\PythonSoftwareFoundation.Python.3.9_qbz5n2kfra8p0\\LocalCache\\local-packages\\Python39\\site-packages\\sklearn\\linear_model\\_logistic.py:814: ConvergenceWarning: lbfgs failed to converge (status=1):\n",
      "STOP: TOTAL NO. of ITERATIONS REACHED LIMIT.\n",
      "\n",
      "Increase the number of iterations (max_iter) or scale the data as shown in:\n",
      "    https://scikit-learn.org/stable/modules/preprocessing.html\n",
      "Please also refer to the documentation for alternative solver options:\n",
      "    https://scikit-learn.org/stable/modules/linear_model.html#logistic-regression\n",
      "  n_iter_i = _check_optimize_result(\n"
     ]
    }
   ],
   "source": [
    "scores_logistic_pipe = cross_validate(logistic_pipe, X_train, \n",
    "                                             y_train, \n",
    "                                             cv=StratifiedKFold(3, shuffle=True)\n",
    "                                             ,scoring=[\"f1\", \n",
    "                                                       \"roc_auc\", \"precision\", \n",
    "                                                       \"recall\"])"
   ]
  },
  {
   "cell_type": "code",
   "execution_count": 15,
   "id": "2ef8d015-6faf-4847-921b-122b99a30eb3",
   "metadata": {},
   "outputs": [],
   "source": [
    "log_df = pd.DataFrame(scores_logistic_pipe)\n",
    "log_df['model'] = 'LogisticRegression'"
   ]
  },
  {
   "cell_type": "code",
   "execution_count": 26,
   "id": "b618369d-cdd2-4e6f-a527-7ddb32c7eb48",
   "metadata": {},
   "outputs": [
    {
     "data": {
      "text/html": [
       "<div>\n",
       "<style scoped>\n",
       "    .dataframe tbody tr th:only-of-type {\n",
       "        vertical-align: middle;\n",
       "    }\n",
       "\n",
       "    .dataframe tbody tr th {\n",
       "        vertical-align: top;\n",
       "    }\n",
       "\n",
       "    .dataframe thead th {\n",
       "        text-align: right;\n",
       "    }\n",
       "</style>\n",
       "<table border=\"1\" class=\"dataframe\">\n",
       "  <thead>\n",
       "    <tr style=\"text-align: right;\">\n",
       "      <th></th>\n",
       "      <th>fit_time</th>\n",
       "      <th>score_time</th>\n",
       "      <th>test_f1</th>\n",
       "      <th>test_roc_auc</th>\n",
       "      <th>test_precision</th>\n",
       "      <th>test_recall</th>\n",
       "      <th>model</th>\n",
       "    </tr>\n",
       "  </thead>\n",
       "  <tbody>\n",
       "    <tr>\n",
       "      <th>0</th>\n",
       "      <td>1.173666</td>\n",
       "      <td>0.180998</td>\n",
       "      <td>0.472272</td>\n",
       "      <td>0.852618</td>\n",
       "      <td>0.725275</td>\n",
       "      <td>0.350133</td>\n",
       "      <td>LogisticRegression</td>\n",
       "    </tr>\n",
       "    <tr>\n",
       "      <th>1</th>\n",
       "      <td>1.290874</td>\n",
       "      <td>0.157798</td>\n",
       "      <td>0.490018</td>\n",
       "      <td>0.837657</td>\n",
       "      <td>0.775862</td>\n",
       "      <td>0.358090</td>\n",
       "      <td>LogisticRegression</td>\n",
       "    </tr>\n",
       "    <tr>\n",
       "      <th>2</th>\n",
       "      <td>1.169270</td>\n",
       "      <td>0.143999</td>\n",
       "      <td>0.457467</td>\n",
       "      <td>0.842892</td>\n",
       "      <td>0.796053</td>\n",
       "      <td>0.320955</td>\n",
       "      <td>LogisticRegression</td>\n",
       "    </tr>\n",
       "    <tr>\n",
       "      <th>0</th>\n",
       "      <td>11.090365</td>\n",
       "      <td>0.442047</td>\n",
       "      <td>0.708943</td>\n",
       "      <td>0.912026</td>\n",
       "      <td>0.915966</td>\n",
       "      <td>0.578249</td>\n",
       "      <td>XGBoost</td>\n",
       "    </tr>\n",
       "    <tr>\n",
       "      <th>1</th>\n",
       "      <td>10.258056</td>\n",
       "      <td>0.312000</td>\n",
       "      <td>0.710485</td>\n",
       "      <td>0.915189</td>\n",
       "      <td>0.866412</td>\n",
       "      <td>0.602122</td>\n",
       "      <td>XGBoost</td>\n",
       "    </tr>\n",
       "    <tr>\n",
       "      <th>2</th>\n",
       "      <td>9.374015</td>\n",
       "      <td>0.337000</td>\n",
       "      <td>0.721781</td>\n",
       "      <td>0.921860</td>\n",
       "      <td>0.900794</td>\n",
       "      <td>0.602122</td>\n",
       "      <td>XGBoost</td>\n",
       "    </tr>\n",
       "  </tbody>\n",
       "</table>\n",
       "</div>"
      ],
      "text/plain": [
       "    fit_time  score_time   test_f1  test_roc_auc  test_precision  test_recall  \\\n",
       "0   1.173666    0.180998  0.472272      0.852618        0.725275     0.350133   \n",
       "1   1.290874    0.157798  0.490018      0.837657        0.775862     0.358090   \n",
       "2   1.169270    0.143999  0.457467      0.842892        0.796053     0.320955   \n",
       "0  11.090365    0.442047  0.708943      0.912026        0.915966     0.578249   \n",
       "1  10.258056    0.312000  0.710485      0.915189        0.866412     0.602122   \n",
       "2   9.374015    0.337000  0.721781      0.921860        0.900794     0.602122   \n",
       "\n",
       "                model  \n",
       "0  LogisticRegression  \n",
       "1  LogisticRegression  \n",
       "2  LogisticRegression  \n",
       "0             XGBoost  \n",
       "1             XGBoost  \n",
       "2             XGBoost  "
      ]
     },
     "execution_count": 26,
     "metadata": {},
     "output_type": "execute_result"
    }
   ],
   "source": [
    "results = pd.concat([log_df])\n",
    "results"
   ]
  },
  {
   "cell_type": "markdown",
   "id": "0dfc5806-e28f-4788-b3b9-b29b5a9326a0",
   "metadata": {},
   "source": [
    "Using grid search to find best parameters to optimize f1"
   ]
  },
  {
   "cell_type": "markdown",
   "id": "9ef08e5a-9a87-490d-aaa7-25165ba66268",
   "metadata": {},
   "source": [
    "LOAD TEST"
   ]
  },
  {
   "cell_type": "code",
   "execution_count": 18,
   "id": "db6d5575",
   "metadata": {},
   "outputs": [],
   "source": [
    "input_folder = '../data/test'\n",
    "# Reading input folder\n",
    "files = os.listdir(input_folder)\n",
    "\n",
    "#df_std = df_std.append(tmp.std(), ignore_index=True)\n",
    "\n",
    "file_name = 'test.pkl'\n",
    "\n",
    "# Reading input folder\n",
    "filesnames = os.listdir(input_folder)\n",
    "regex = re.compile(r'\\d+')\n",
    "ids = [int(x) for x in regex.findall(str(files))]\n",
    "dfs = list()\n",
    "\n",
    "for patient_id, filename in enumerate(filesnames):    \n",
    "    pdf = pd.read_csv(input_folder + \"/\" + filename, sep='|')   \n",
    "    sepsislabel_true_list = pdf[pdf['SepsisLabel'] == 1].index\n",
    "    if not sepsislabel_true_list.empty:\n",
    "        pdf = pdf[:min(pdf[pdf['SepsisLabel'] == 1].index)+1]\n",
    "        pdf['SepsisLabel'] = 1\n",
    "    pdf['patient_id'] = ids[patient_id]\n",
    "    pdf.interpolate(limit_direction='both', axis=0, inplace=True) # show first hist without it\n",
    "    dfs.append(pdf)\n",
    "df = pd.concat(dfs, axis=0, ignore_index=True)\n",
    "df.to_pickle(file_name) # where to save it usually as a .plk"
   ]
  },
  {
   "cell_type": "code",
   "execution_count": 19,
   "id": "e7b99ecf-a568-49d5-b6ba-8f40562b4a17",
   "metadata": {},
   "outputs": [],
   "source": [
    "file_name = 'test.pkl'\n",
    "test = pd.read_pickle(file_name)"
   ]
  },
  {
   "cell_type": "code",
   "execution_count": 21,
   "id": "6606c94f-f8bc-4d24-8ac4-af3791b13a0b",
   "metadata": {},
   "outputs": [],
   "source": [
    "test = test.groupby('patient_id').agg(aggdict)\n",
    "\n",
    "#grouped_multiple = df.groupby('patient_id')[columns].agg(['mean','std', 'min', 'max'])\n",
    "\n",
    "test.columns = list(map('_'.join, test.columns.values))"
   ]
  },
  {
   "cell_type": "code",
   "execution_count": 22,
   "id": "dc9f3303-8dce-479b-9d1e-a65ac1fea4fe",
   "metadata": {},
   "outputs": [],
   "source": [
    "X_test, y_test = test.drop(['SepsisLabel_max','patient_id_max'], axis=1), test['SepsisLabel_max']"
   ]
  },
  {
   "cell_type": "code",
   "execution_count": 23,
   "id": "876c3c6f-41b1-4721-9bea-9ce8f7540748",
   "metadata": {},
   "outputs": [],
   "source": [
    "X_train, y_train = grouped_multiple.drop(['SepsisLabel_max','patient_id_max'], axis=1), grouped_multiple['SepsisLabel_max']"
   ]
  },
  {
   "cell_type": "code",
   "execution_count": 24,
   "id": "0b16cf98-3ebb-487c-8b72-79f081cdb01f",
   "metadata": {},
   "outputs": [],
   "source": [
    "logistic_pipe_scale = make_pipeline(impute_scale_pipeline, \n",
    "                                    LogisticRegression(solver='lbfgs') )\n",
    "\n",
    "modeln = ['lr']"
   ]
  },
  {
   "cell_type": "code",
   "execution_count": 25,
   "id": "385636e8-dbd6-4552-a1b6-3f46569cb25e",
   "metadata": {
    "scrolled": false
   },
   "outputs": [
    {
     "name": "stderr",
     "output_type": "stream",
     "text": [
      "C:\\Users\\Gal\\AppData\\Local\\Packages\\PythonSoftwareFoundation.Python.3.9_qbz5n2kfra8p0\\LocalCache\\local-packages\\Python39\\site-packages\\sklearn\\linear_model\\_logistic.py:814: ConvergenceWarning: lbfgs failed to converge (status=1):\n",
      "STOP: TOTAL NO. of ITERATIONS REACHED LIMIT.\n",
      "\n",
      "Increase the number of iterations (max_iter) or scale the data as shown in:\n",
      "    https://scikit-learn.org/stable/modules/preprocessing.html\n",
      "Please also refer to the documentation for alternative solver options:\n",
      "    https://scikit-learn.org/stable/modules/linear_model.html#logistic-regression\n",
      "  n_iter_i = _check_optimize_result(\n"
     ]
    },
    {
     "name": "stdout",
     "output_type": "stream",
     "text": [
      "F1 score for model lr is: 0.5013824884792627\n",
      "[17:38:54] WARNING: C:/Users/Administrator/workspace/xgboost-win64_release_1.6.0/src/learner.cc:627: \n",
      "Parameters: { \"params\" } might not be used.\n",
      "\n",
      "  This could be a false alarm, with some parameters getting used by language bindings but\n",
      "  then being mistakenly passed down to XGBoost core, or some parameter actually being used\n",
      "  but getting flagged wrongly here. Please open an issue if you find any such cases.\n",
      "\n",
      "\n",
      "F1 score for model xgb is: 0.7079646017699115\n"
     ]
    }
   ],
   "source": [
    "from sklearn.metrics import f1_score\n",
    "\n",
    "fitted_models = []\n",
    "pipelines = [logistic_pipe_scale]\n",
    "\n",
    "for i, pipeline in enumerate(pipelines):\n",
    "        #fitted_models[i] = pipeline.fit(X_train, y_train)\n",
    "        predicted = pipeline.fit(X_train, y_train).predict(X_test)\n",
    "        print(f'F1 score for model {modeln[i]} is:', f1_score(y_test, predicted, average='binary'))\n"
   ]
  },
  {
   "cell_type": "code",
   "execution_count": 27,
   "id": "4211f917-81d8-4b94-9c42-c4af92c323a5",
   "metadata": {
    "scrolled": true
   },
   "outputs": [
    {
     "name": "stderr",
     "output_type": "stream",
     "text": [
      "C:\\Users\\Gal\\AppData\\Local\\Packages\\PythonSoftwareFoundation.Python.3.9_qbz5n2kfra8p0\\LocalCache\\local-packages\\Python39\\site-packages\\sklearn\\linear_model\\_logistic.py:814: ConvergenceWarning: lbfgs failed to converge (status=1):\n",
      "STOP: TOTAL NO. of ITERATIONS REACHED LIMIT.\n",
      "\n",
      "Increase the number of iterations (max_iter) or scale the data as shown in:\n",
      "    https://scikit-learn.org/stable/modules/preprocessing.html\n",
      "Please also refer to the documentation for alternative solver options:\n",
      "    https://scikit-learn.org/stable/modules/linear_model.html#logistic-regression\n",
      "  n_iter_i = _check_optimize_result(\n"
     ]
    },
    {
     "name": "stdout",
     "output_type": "stream",
     "text": [
      "[18:22:25] WARNING: C:/Users/Administrator/workspace/xgboost-win64_release_1.6.0/src/learner.cc:627: \n",
      "Parameters: { \"params\" } might not be used.\n",
      "\n",
      "  This could be a false alarm, with some parameters getting used by language bindings but\n",
      "  then being mistakenly passed down to XGBoost core, or some parameter actually being used\n",
      "  but getting flagged wrongly here. Please open an issue if you find any such cases.\n",
      "\n",
      "\n"
     ]
    }
   ],
   "source": [
    "lr_model = logistic_pipe_scale.fit(X_train, y_train)"
   ]
  },
  {
   "cell_type": "code",
   "execution_count": 28,
   "id": "72fd5241",
   "metadata": {
    "scrolled": true
   },
   "outputs": [
    {
     "name": "stderr",
     "output_type": "stream",
     "text": [
      "C:\\Users\\Gal\\AppData\\Local\\Packages\\PythonSoftwareFoundation.Python.3.9_qbz5n2kfra8p0\\LocalCache\\local-packages\\Python39\\site-packages\\sklearn\\linear_model\\_logistic.py:814: ConvergenceWarning: lbfgs failed to converge (status=1):\n",
      "STOP: TOTAL NO. of ITERATIONS REACHED LIMIT.\n",
      "\n",
      "Increase the number of iterations (max_iter) or scale the data as shown in:\n",
      "    https://scikit-learn.org/stable/modules/preprocessing.html\n",
      "Please also refer to the documentation for alternative solver options:\n",
      "    https://scikit-learn.org/stable/modules/linear_model.html#logistic-regression\n",
      "  n_iter_i = _check_optimize_result(\n"
     ]
    }
   ],
   "source": [
    "res = lr_model.fit(X_train, y_train)"
   ]
  },
  {
   "cell_type": "code",
   "execution_count": 115,
   "id": "15a4110c",
   "metadata": {
    "scrolled": true
   },
   "outputs": [
    {
     "name": "stderr",
     "output_type": "stream",
     "text": [
      "C:\\Users\\Gal\\AppData\\Local\\Packages\\PythonSoftwareFoundation.Python.3.9_qbz5n2kfra8p0\\LocalCache\\local-packages\\Python39\\site-packages\\sklearn\\utils\\deprecation.py:87: FutureWarning: Function plot_roc_curve is deprecated; Function `plot_roc_curve` is deprecated in 1.0 and will be removed in 1.2. Use one of the class methods: RocCurveDisplay.from_predictions or RocCurveDisplay.from_estimator.\n",
      "  warnings.warn(msg, category=FutureWarning)\n"
     ]
    },
    {
     "data": {
      "image/png": "[encoded data removed]",
      "text/plain": [
       "<Figure size 432x288 with 1 Axes>"
      ]
     },
     "metadata": {
      "needs_background": "light"
     },
     "output_type": "display_data"
    }
   ],
   "source": [
    "metrics.plot_roc_curve(lr_model, X_test, y_test) \n",
    "plt.show()"
   ]
  },
  {
   "cell_type": "code",
   "execution_count": 37,
   "id": "2b7af722",
   "metadata": {
    "scrolled": true
   },
   "outputs": [
    {
     "name": "stdout",
     "output_type": "stream",
     "text": [
      "Feature: HR_mean, Score: -0.24183\n",
      "Feature: O2Sat_mean, Score: 0.02345\n",
      "Feature: Temp_mean, Score: 0.18527\n",
      "Feature: SBP_mean, Score: 0.03515\n",
      "Feature: MAP_mean, Score: -0.43554\n",
      "Feature: DBP_mean, Score: -0.09040\n",
      "Feature: Resp_mean, Score: 0.17676\n",
      "Feature: EtCO2_mean, Score: 0.03285\n",
      "Feature: BaseExcess_mean, Score: 0.12317\n",
      "Feature: HCO3_mean, Score: 0.00966\n",
      "Feature: FiO2_mean, Score: 0.12786\n",
      "Feature: pH_mean, Score: -0.14822\n",
      "Feature: PaCO2_mean, Score: -0.13318\n",
      "Feature: SaO2_mean, Score: -0.07067\n",
      "Feature: AST_mean, Score: 0.04305\n",
      "Feature: BUN_mean, Score: 0.07894\n",
      "Feature: Alkalinephos_mean, Score: -0.02535\n",
      "Feature: Calcium_mean, Score: 0.10676\n",
      "Feature: Chloride_mean, Score: -0.21065\n",
      "Feature: Creatinine_mean, Score: 0.05312\n",
      "Feature: Bilirubin_direct_mean, Score: 0.01621\n",
      "Feature: Glucose_mean, Score: 0.13855\n",
      "Feature: Lactate_mean, Score: -0.21434\n",
      "Feature: Magnesium_mean, Score: -0.03468\n",
      "Feature: Phosphate_mean, Score: -0.09248\n",
      "Feature: Potassium_mean, Score: -0.22467\n",
      "Feature: Bilirubin_total_mean, Score: -0.29882\n",
      "Feature: TroponinI_mean, Score: -0.02887\n",
      "Feature: Hct_mean, Score: 0.09910\n",
      "Feature: Hgb_mean, Score: -0.35187\n",
      "Feature: PTT_mean, Score: 0.04386\n",
      "Feature: WBC_mean, Score: 0.52547\n",
      "Feature: Fibrinogen_mean, Score: 0.10398\n",
      "Feature: Platelets_mean, Score: -0.14964\n",
      "Feature: Age_mean, Score: 0.03817\n"
     ]
    },
    {
     "data": {
      "image/png": "[encoded data removed]",
      "text/plain": [
       "<Figure size 1440x720 with 1 Axes>"
      ]
     },
     "metadata": {
      "needs_background": "light"
     },
     "output_type": "display_data"
    }
   ],
   "source": [
    "importance = lr_model[1].coef_[0]\n",
    "names = []\n",
    "values = []\n",
    "import_list = []\n",
    "# summarize feature importance\n",
    "for i,v in enumerate(importance):\n",
    "    if  i < 215:\n",
    "        import_list.append([v, res[0][0].feature_names_in_[i]])\n",
    "        if 'mean' in res[0][0].feature_names_in_[i]:\n",
    "            names.append(res[0][0].feature_names_in_[i].replace(\"_mean\", \"\"))\n",
    "            values.append(v)\n",
    "            print(f'Feature: %s, Score: %.5f' % (res[0][0].feature_names_in_[i],v))\n",
    "\n",
    "# plot feature importance\n",
    "plt.barh(names, values)\n",
    "plt.show()"
   ]
  },
  {
   "cell_type": "code",
   "execution_count": 69,
   "id": "e97d5420",
   "metadata": {},
   "outputs": [],
   "source": [
    "plt.rcParams[\"figure.figsize\"] = (20,10)"
   ]
  },
  {
   "cell_type": "code",
   "execution_count": 40,
   "id": "229252c6",
   "metadata": {
    "scrolled": true
   },
   "outputs": [
    {
     "data": {
      "text/plain": [
       "[[-0.4630593803925343, 'Lactate_std'],\n",
       " [-0.4355428793256213, 'MAP_mean'],\n",
       " [-0.43258470118982356, 'HCO3_min'],\n",
       " [-0.409164830977398, 'SBP_max'],\n",
       " [-0.3518733174662023, 'Hgb_mean'],\n",
       " [-0.3511738190919442, 'Resp_max'],\n",
       " [-0.34346092907748454, 'SaO2_std'],\n",
       " [-0.32609895824188784, 'Chloride_std'],\n",
       " [-0.30525053305241756, 'SaO2_min'],\n",
       " [-0.2988194112331563, 'Bilirubin_total_mean'],\n",
       " [-0.29115205425605667, 'O2Sat_std'],\n",
       " [-0.2762915100571228, 'Chloride_min'],\n",
       " [-0.25343464550278155, 'BaseExcess_min'],\n",
       " [-0.24889358729888558, 'Fibrinogen_min'],\n",
       " [-0.24182972938462544, 'HR_mean'],\n",
       " [-0.23699199330991622, 'Lactate_min'],\n",
       " [-0.22467171238102088, 'Potassium_mean'],\n",
       " [-0.2219923931817892, 'WBC_min'],\n",
       " [-0.21434484266851292, 'Lactate_mean'],\n",
       " [-0.2106493824857582, 'Chloride_mean'],\n",
       " [-0.20273893263240733, 'BaseExcess_std'],\n",
       " [-0.20271982496110563, 'WBC_max'],\n",
       " [-0.19889518193658423, 'EtCO2_min'],\n",
       " [-0.17446438749072438, 'Phosphate_std'],\n",
       " [-0.17198090125945759, 'Creatinine_max'],\n",
       " [-0.17136687216836466, 'PaCO2_min'],\n",
       " [-0.16905157485646571, 'O2Sat_min'],\n",
       " [-0.1687077187763701, 'HCO3_std'],\n",
       " [-0.15528876979600384, 'Phosphate_min'],\n",
       " [-0.14964403103831592, 'Platelets_mean'],\n",
       " [-0.14914838749199652, 'Hct_max'],\n",
       " [-0.14821863616540099, 'pH_mean'],\n",
       " [-0.13780879826505574, 'PaCO2_std'],\n",
       " [-0.1374560459207095, 'Alkalinephos_min'],\n",
       " [-0.133179659042826, 'PaCO2_mean'],\n",
       " [-0.13153303261536006, 'SaO2_skew'],\n",
       " [-0.12278124693357823, 'EtCO2_std'],\n",
       " [-0.11204255336444524, 'Fibrinogen_std'],\n",
       " [-0.10939234616228609, 'TroponinI_min'],\n",
       " [-0.10290773652203307, 'BUN_max'],\n",
       " [-0.09545862244780066, 'TroponinI_std'],\n",
       " [-0.0937096571792099, 'Glucose_std'],\n",
       " [-0.09249328000107411, 'Calcium_min'],\n",
       " [-0.09247691740383258, 'Phosphate_mean'],\n",
       " [-0.09235645944134334, 'Calcium_max'],\n",
       " [-0.09039508374708177, 'DBP_mean'],\n",
       " [-0.08996918335981512, 'FiO2_std'],\n",
       " [-0.07862976266350281, 'Lactate_kurt'],\n",
       " [-0.0784467275985282, 'PTT_std'],\n",
       " [-0.07448552793620188, 'Hct_kurt'],\n",
       " [-0.0744294293583256, 'DBP_std'],\n",
       " [-0.07236994525134857, 'Alkalinephos_std'],\n",
       " [-0.0719367223456544, 'SaO2_kurt'],\n",
       " [-0.07087534518533202, 'Bilirubin_total_skew'],\n",
       " [-0.07067231638049327, 'Chloride_skew'],\n",
       " [-0.07066685620231347, 'SaO2_mean'],\n",
       " [-0.07059390894380066, 'AST_kurt'],\n",
       " [-0.06841027478402478, 'AST_min'],\n",
       " [-0.0671854371121946, 'pH_skew'],\n",
       " [-0.0657023849032735, 'Magnesium_std'],\n",
       " [-0.056268204928954665, 'DBP_skew'],\n",
       " [-0.05601841154732395, 'Potassium_std'],\n",
       " [-0.05558431469900772, 'Bilirubin_direct_max'],\n",
       " [-0.05475001650922054, 'AST_std'],\n",
       " [-0.05407723406505272, 'FiO2_max'],\n",
       " [-0.05310425885580212, 'Unit2_max'],\n",
       " [-0.05250842793550546, 'Glucose_max'],\n",
       " [-0.05194952990638449, 'Magnesium_skew'],\n",
       " [-0.051023966684292196, 'HospAdmTime_max'],\n",
       " [-0.047821778979914284, 'Hct_skew'],\n",
       " [-0.04689900926446323, 'PTT_skew'],\n",
       " [-0.046691618033355926, 'Bilirubin_direct_skew'],\n",
       " [-0.045648914529124604, 'HCO3_kurt'],\n",
       " [-0.04444896387339589, 'MAP_kurt'],\n",
       " [-0.044262764176697486, 'AST_skew'],\n",
       " [-0.04274436037059559, 'PaCO2_skew'],\n",
       " [-0.039813214250331457, 'BaseExcess_skew'],\n",
       " [-0.038263180147149446, 'Chloride_kurt'],\n",
       " [-0.03713641253701139, 'O2Sat_skew'],\n",
       " [-0.03467865078633431, 'Magnesium_mean'],\n",
       " [-0.0330216589223673, 'DBP_kurt'],\n",
       " [-0.02886967545176386, 'TroponinI_mean'],\n",
       " [-0.028190940542734178, 'MAP_std'],\n",
       " [-0.02810567224263836, 'Bilirubin_direct_kurt'],\n",
       " [-0.026459296081810243, 'WBC_kurt'],\n",
       " [-0.025645006175026696, 'BUN_skew'],\n",
       " [-0.025349377119367033, 'Alkalinephos_mean'],\n",
       " [-0.023154955549444804, 'pH_max'],\n",
       " [-0.0223985790953838, 'Magnesium_min'],\n",
       " [-0.022346998161088916, 'EtCO2_skew'],\n",
       " [-0.02228824668441478, 'Calcium_std'],\n",
       " [-0.02211259452186299, 'PaCO2_kurt'],\n",
       " [-0.021808475498460617, 'TroponinI_kurt'],\n",
       " [-0.020161896839355094, 'Hgb_std'],\n",
       " [-0.01990514837507157, 'Potassium_min'],\n",
       " [-0.019413293412470778, 'HR_std'],\n",
       " [-0.018578934871202275, 'WBC_std'],\n",
       " [-0.017990085260991284, 'HR_kurt'],\n",
       " [-0.01670557927053698, 'Temp_kurt'],\n",
       " [-0.016354892499150425, 'Phosphate_kurt'],\n",
       " [-0.015248997704258388, 'BUN_kurt'],\n",
       " [-0.009987441780063479, 'TroponinI_skew'],\n",
       " [-0.009897979958208831, 'Creatinine_skew'],\n",
       " [-0.008767731113257333, 'pH_kurt'],\n",
       " [-0.007410468656700268, 'EtCO2_kurt'],\n",
       " [-0.006828541938692133, 'FiO2_kurt'],\n",
       " [-0.005828003477811116, 'MAP_skew'],\n",
       " [-0.005296228525259771, 'Glucose_min'],\n",
       " [-0.004614166876096487, 'Alkalinephos_kurt'],\n",
       " [-0.004297951051167005, 'PTT_min'],\n",
       " [-0.003962297300004251, 'Potassium_kurt'],\n",
       " [-0.0013556426547123757, 'Bilirubin_total_kurt'],\n",
       " [-0.00040457428419083937, 'HR_skew'],\n",
       " [0.0, 'Age_std'],\n",
       " [0.0, 'Age_skew'],\n",
       " [0.0, 'Age_kurt'],\n",
       " [0.0019976929025429975, 'Fibrinogen_kurt'],\n",
       " [0.005372516302923328, 'Bilirubin_direct_min'],\n",
       " [0.007299096050996107, 'DBP_min'],\n",
       " [0.009409009380585953, 'SBP_skew'],\n",
       " [0.009660459855008807, 'HCO3_mean'],\n",
       " [0.010514590077772787, 'Platelets_skew'],\n",
       " [0.011850936295954628, 'Platelets_kurt'],\n",
       " [0.012583275475486978, 'Platelets_max'],\n",
       " [0.01306021404458578, 'Creatinine_kurt'],\n",
       " [0.013322117099144075, 'HCO3_skew'],\n",
       " [0.015110508014529258, 'FiO2_min'],\n",
       " [0.015600326134741271, 'Phosphate_skew'],\n",
       " [0.01621024933047971, 'Bilirubin_direct_mean'],\n",
       " [0.01893129990903903, 'Temp_max'],\n",
       " [0.022988138240483243, 'O2Sat_max'],\n",
       " [0.023451972719841112, 'O2Sat_mean'],\n",
       " [0.02471661321173033, 'Glucose_skew'],\n",
       " [0.028103815585410804, 'Magnesium_kurt'],\n",
       " [0.02831644742427278, 'Bilirubin_direct_std'],\n",
       " [0.0293754761546601, 'PTT_kurt'],\n",
       " [0.029966163094694017, 'O2Sat_kurt'],\n",
       " [0.030599592170834446, 'Fibrinogen_skew'],\n",
       " [0.03245941437877601, 'WBC_skew'],\n",
       " [0.032849076414979986, 'EtCO2_mean'],\n",
       " [0.03405287946823144, 'Platelets_std'],\n",
       " [0.034066741538321614, 'Hgb_kurt'],\n",
       " [0.035150302884908426, 'SBP_mean'],\n",
       " [0.036678717530852833, 'FiO2_skew'],\n",
       " [0.037158164225429786, 'Creatinine_std'],\n",
       " [0.037821897137641836, 'BaseExcess_kurt'],\n",
       " [0.03788841207344334, 'Bilirubin_total_std'],\n",
       " [0.03817397791002004, 'Age_mean'],\n",
       " [0.0381739779100207, 'Age_min'],\n",
       " [0.0381739779100207, 'Age_max'],\n",
       " [0.038176435811813146, 'Lactate_skew'],\n",
       " [0.03837681593197516, 'Potassium_skew'],\n",
       " [0.04144576855986801, 'Resp_skew'],\n",
       " [0.042588736831271186, 'PTT_max'],\n",
       " [0.04305302137236495, 'AST_mean'],\n",
       " [0.043863538217493364, 'PTT_mean'],\n",
       " [0.04592478783064289, 'Hgb_skew'],\n",
       " [0.046696543839936815, 'AST_max'],\n",
       " [0.05049343622483248, 'Temp_skew'],\n",
       " [0.05091279700759199, 'Hct_std'],\n",
       " [0.05133846211567021, 'Glucose_kurt'],\n",
       " [0.0531042588558042, 'Unit1_max'],\n",
       " [0.0531171041346532, 'Creatinine_mean'],\n",
       " [0.055335112945248885, 'BUN_std'],\n",
       " [0.06037712028162684, 'BUN_min'],\n",
       " [0.06302630546551398, 'Calcium_skew'],\n",
       " [0.06518557882296586, 'Alkalinephos_skew'],\n",
       " [0.0678070822825849, 'Calcium_kurt'],\n",
       " [0.07307451275555354, 'SBP_kurt'],\n",
       " [0.07558236226073745, 'Temp_min'],\n",
       " [0.07894206965323117, 'BUN_mean'],\n",
       " [0.08835798709994744, 'Gender_max'],\n",
       " [0.09013728976056236, 'Hgb_min'],\n",
       " [0.09909571077450341, 'Hct_mean'],\n",
       " [0.09999643137815768, 'HR_max'],\n",
       " [0.10397641141039747, 'Fibrinogen_mean'],\n",
       " [0.1067567370215904, 'Calcium_mean'],\n",
       " [0.10986771351026868, 'EtCO2_max'],\n",
       " [0.11558116056964383, 'Hgb_max'],\n",
       " [0.1231732954626902, 'BaseExcess_mean'],\n",
       " [0.12383989036023575, 'pH_std'],\n",
       " [0.1248204992477658, 'MAP_max'],\n",
       " [0.12492714352687115, 'Platelets_min'],\n",
       " [0.12785967061783454, 'FiO2_mean'],\n",
       " [0.1281636745769168, 'Magnesium_max'],\n",
       " [0.13855186630335456, 'Glucose_mean'],\n",
       " [0.138702234217875, 'Temp_std'],\n",
       " [0.1398956185230897, 'Resp_kurt'],\n",
       " [0.14274454176710039, 'Bilirubin_total_max'],\n",
       " [0.1510389849204895, 'Bilirubin_total_min'],\n",
       " [0.16660424976974794, 'Potassium_max'],\n",
       " [0.17292423750575442, 'SaO2_max'],\n",
       " [0.17579203896663628, 'MAP_min'],\n",
       " [0.1767564231132568, 'Resp_mean'],\n",
       " [0.17745835922861658, 'Creatinine_min'],\n",
       " [0.1822503728299053, 'DBP_max'],\n",
       " [0.18526621183004133, 'Temp_mean'],\n",
       " [0.19034879235771984, 'Alkalinephos_max'],\n",
       " [0.1979197453936251, 'Fibrinogen_max'],\n",
       " [0.20482801461075203, 'pH_min'],\n",
       " [0.20731518993331233, 'Resp_std'],\n",
       " [0.21688633339395158, 'Hct_min'],\n",
       " [0.22090821536853833, 'TroponinI_max'],\n",
       " [0.2428269696126811, 'HCO3_max'],\n",
       " [0.2560272582457542, 'BaseExcess_max'],\n",
       " [0.2927502705997102, 'Resp_min'],\n",
       " [0.2970415308163996, 'SBP_min'],\n",
       " [0.3030257670816961, 'SBP_std'],\n",
       " [0.3412067785401006, 'Phosphate_max'],\n",
       " [0.39024202095450317, 'HR_min'],\n",
       " [0.40403651136186564, 'PaCO2_max'],\n",
       " [0.5254749744678573, 'WBC_mean'],\n",
       " [0.5816729525583751, 'Chloride_max'],\n",
       " [0.6256573437358347, 'ICULOS_max'],\n",
       " [0.6396221315241378, 'Lactate_max']]"
      ]
     },
     "execution_count": 40,
     "metadata": {},
     "output_type": "execute_result"
    }
   ],
   "source": [
    "import_list.sort(key=lambda x: x[0])\n",
    "import_list"
   ]
  },
  {
   "cell_type": "code",
   "execution_count": 47,
   "id": "b648c01d",
   "metadata": {},
   "outputs": [
    {
     "data": {
      "text/html": [
       "<div>\n",
       "<style scoped>\n",
       "    .dataframe tbody tr th:only-of-type {\n",
       "        vertical-align: middle;\n",
       "    }\n",
       "\n",
       "    .dataframe tbody tr th {\n",
       "        vertical-align: top;\n",
       "    }\n",
       "\n",
       "    .dataframe thead th {\n",
       "        text-align: right;\n",
       "    }\n",
       "</style>\n",
       "<table border=\"1\" class=\"dataframe\">\n",
       "  <thead>\n",
       "    <tr style=\"text-align: right;\">\n",
       "      <th></th>\n",
       "      <th>Beta coefficient</th>\n",
       "      <th>Feature name</th>\n",
       "    </tr>\n",
       "  </thead>\n",
       "  <tbody>\n",
       "    <tr>\n",
       "      <th>0</th>\n",
       "      <td>-0.463059</td>\n",
       "      <td>Lactate_std</td>\n",
       "    </tr>\n",
       "    <tr>\n",
       "      <th>1</th>\n",
       "      <td>-0.435543</td>\n",
       "      <td>MAP_mean</td>\n",
       "    </tr>\n",
       "    <tr>\n",
       "      <th>2</th>\n",
       "      <td>-0.432585</td>\n",
       "      <td>HCO3_min</td>\n",
       "    </tr>\n",
       "    <tr>\n",
       "      <th>3</th>\n",
       "      <td>-0.409165</td>\n",
       "      <td>SBP_max</td>\n",
       "    </tr>\n",
       "    <tr>\n",
       "      <th>4</th>\n",
       "      <td>-0.351873</td>\n",
       "      <td>Hgb_mean</td>\n",
       "    </tr>\n",
       "    <tr>\n",
       "      <th>5</th>\n",
       "      <td>-0.351174</td>\n",
       "      <td>Resp_max</td>\n",
       "    </tr>\n",
       "    <tr>\n",
       "      <th>6</th>\n",
       "      <td>-0.343461</td>\n",
       "      <td>SaO2_std</td>\n",
       "    </tr>\n",
       "    <tr>\n",
       "      <th>7</th>\n",
       "      <td>-0.326099</td>\n",
       "      <td>Chloride_std</td>\n",
       "    </tr>\n",
       "    <tr>\n",
       "      <th>8</th>\n",
       "      <td>-0.305251</td>\n",
       "      <td>SaO2_min</td>\n",
       "    </tr>\n",
       "    <tr>\n",
       "      <th>9</th>\n",
       "      <td>-0.298819</td>\n",
       "      <td>Bilirubin_total_mean</td>\n",
       "    </tr>\n",
       "  </tbody>\n",
       "</table>\n",
       "</div>"
      ],
      "text/plain": [
       "   Beta coefficient          Feature name\n",
       "0         -0.463059           Lactate_std\n",
       "1         -0.435543              MAP_mean\n",
       "2         -0.432585              HCO3_min\n",
       "3         -0.409165               SBP_max\n",
       "4         -0.351873              Hgb_mean\n",
       "5         -0.351174              Resp_max\n",
       "6         -0.343461              SaO2_std\n",
       "7         -0.326099          Chloride_std\n",
       "8         -0.305251              SaO2_min\n",
       "9         -0.298819  Bilirubin_total_mean"
      ]
     },
     "execution_count": 47,
     "metadata": {},
     "output_type": "execute_result"
    }
   ],
   "source": [
    "pd.DataFrame(import_list[:10], columns = ['Beta coefficient', 'Feature name'])"
   ]
  },
  {
   "cell_type": "code",
   "execution_count": 49,
   "id": "f97e8c47",
   "metadata": {},
   "outputs": [
    {
     "data": {
      "text/html": [
       "<div>\n",
       "<style scoped>\n",
       "    .dataframe tbody tr th:only-of-type {\n",
       "        vertical-align: middle;\n",
       "    }\n",
       "\n",
       "    .dataframe tbody tr th {\n",
       "        vertical-align: top;\n",
       "    }\n",
       "\n",
       "    .dataframe thead th {\n",
       "        text-align: right;\n",
       "    }\n",
       "</style>\n",
       "<table border=\"1\" class=\"dataframe\">\n",
       "  <thead>\n",
       "    <tr style=\"text-align: right;\">\n",
       "      <th></th>\n",
       "      <th>Beta coefficient</th>\n",
       "      <th>Feature name</th>\n",
       "    </tr>\n",
       "  </thead>\n",
       "  <tbody>\n",
       "    <tr>\n",
       "      <th>0</th>\n",
       "      <td>0.292750</td>\n",
       "      <td>Resp_min</td>\n",
       "    </tr>\n",
       "    <tr>\n",
       "      <th>1</th>\n",
       "      <td>0.297042</td>\n",
       "      <td>SBP_min</td>\n",
       "    </tr>\n",
       "    <tr>\n",
       "      <th>2</th>\n",
       "      <td>0.303026</td>\n",
       "      <td>SBP_std</td>\n",
       "    </tr>\n",
       "    <tr>\n",
       "      <th>3</th>\n",
       "      <td>0.341207</td>\n",
       "      <td>Phosphate_max</td>\n",
       "    </tr>\n",
       "    <tr>\n",
       "      <th>4</th>\n",
       "      <td>0.390242</td>\n",
       "      <td>HR_min</td>\n",
       "    </tr>\n",
       "    <tr>\n",
       "      <th>5</th>\n",
       "      <td>0.404037</td>\n",
       "      <td>PaCO2_max</td>\n",
       "    </tr>\n",
       "    <tr>\n",
       "      <th>6</th>\n",
       "      <td>0.525475</td>\n",
       "      <td>WBC_mean</td>\n",
       "    </tr>\n",
       "    <tr>\n",
       "      <th>7</th>\n",
       "      <td>0.581673</td>\n",
       "      <td>Chloride_max</td>\n",
       "    </tr>\n",
       "    <tr>\n",
       "      <th>8</th>\n",
       "      <td>0.625657</td>\n",
       "      <td>ICULOS_max</td>\n",
       "    </tr>\n",
       "    <tr>\n",
       "      <th>9</th>\n",
       "      <td>0.639622</td>\n",
       "      <td>Lactate_max</td>\n",
       "    </tr>\n",
       "  </tbody>\n",
       "</table>\n",
       "</div>"
      ],
      "text/plain": [
       "   Beta coefficient   Feature name\n",
       "0          0.292750       Resp_min\n",
       "1          0.297042        SBP_min\n",
       "2          0.303026        SBP_std\n",
       "3          0.341207  Phosphate_max\n",
       "4          0.390242         HR_min\n",
       "5          0.404037      PaCO2_max\n",
       "6          0.525475       WBC_mean\n",
       "7          0.581673   Chloride_max\n",
       "8          0.625657     ICULOS_max\n",
       "9          0.639622    Lactate_max"
      ]
     },
     "execution_count": 49,
     "metadata": {},
     "output_type": "execute_result"
    }
   ],
   "source": [
    "pd.DataFrame(import_list[-10:], columns = ['Beta coefficient', 'Feature name'])"
   ]
  }
 ],
 "metadata": {
  "kernelspec": {
   "display_name": "Python 3 (ipykernel)",
   "language": "python",
   "name": "python3"
  },
  "language_info": {
   "codemirror_mode": {
    "name": "ipython",
    "version": 3
   },
   "file_extension": ".py",
   "mimetype": "text/x-python",
   "name": "python",
   "nbconvert_exporter": "python",
   "pygments_lexer": "ipython3",
   "version": "3.9.13"
  }
 },
 "nbformat": 4,
 "nbformat_minor": 5
}
